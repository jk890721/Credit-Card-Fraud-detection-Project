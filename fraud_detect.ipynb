{
 "cells": [
  {
   "cell_type": "code",
   "execution_count": 4,
   "metadata": {},
   "outputs": [],
   "source": [
    "# import datetime\n",
    "import os\n",
    "import numpy as np \n",
    "import pandas as pd \n",
    "import matplotlib.pyplot as plt \n",
    "from sklearn.metrics import accuracy_score, confusion_matrix, roc_auc_score\n",
    "from sklearn.preprocessing import LabelEncoder\n",
    "from sklearn.preprocessing import StandardScaler\n",
    "import warnings\n",
    "warnings.filterwarnings('ignore')"
   ]
  },
  {
   "cell_type": "markdown",
   "metadata": {},
   "source": [
    "Data definition :\n",
    "1. index - Unique Identifier for each row\n",
    "2. trans_date_trans_time - Transaction DateTime\n",
    "3. cc_num - Credit Card Number of Customer\n",
    "4. merchant - Merchant Name\n",
    "5. category - Category of Merchant\n",
    "6. amt - Amount of Transaction\n",
    "7. first - First Name of Credit Card Holder\n",
    "8. last - Last Name of Credit Card Holder\n",
    "9. gender - Gender of Credit Card Holder\n",
    "10. street - Street Address of Credit Card Holder\n",
    "11. city - City of Credit Card Holder\n",
    "12. state - State of Credit Card Holder\n",
    "13. zip - Zip of Credit Card Holder\n",
    "14. lat - Latitude Location of Credit Card Holder\n",
    "15. long - Longitude Location of Credit Card Holder\n",
    "16. city_pop - Credit Card Holder's City Population\n",
    "17. job - Job of Credit Card Holder\n",
    "18. dob - Date of Birth of Credit Card Holder\n",
    "19. trans_num - Transaction Number\n",
    "20. unix_time - UNIX Time of transaction\n",
    "21. merch_lat - Latitude Location of Merchant\n",
    "22. merch_long - Longitude Location of Merchant\n",
    "23. is_fraud - Fraud Flag <--- Target Class"
   ]
  },
  {
   "cell_type": "code",
   "execution_count": 5,
   "metadata": {},
   "outputs": [
    {
     "name": "stdout",
     "output_type": "stream",
     "text": [
      "Warning: Looks like you're using an outdated `kagglehub` version, please consider updating (latest version: 0.3.10)\n",
      "Path to dataset files: C:\\Users\\USER\\.cache\\kagglehub\\datasets\\kartik2112\\fraud-detection\\versions\\1\n"
     ]
    }
   ],
   "source": [
    "import kagglehub\n",
    "\n",
    "# Download latest version\n",
    "path = kagglehub.dataset_download(\"kartik2112/fraud-detection\")\n",
    "\n",
    "print(\"Path to dataset files:\", path)"
   ]
  },
  {
   "cell_type": "code",
   "execution_count": 6,
   "metadata": {},
   "outputs": [],
   "source": [
    "# Import the data set from path\n",
    "datas = os.listdir(path)\n",
    "# Import the mitbih_train and mitbih_test dataset\n",
    "train_df = pd.read_csv(os.path.join(path, 'fraudTrain.csv'))\n",
    "test_df = pd.read_csv(os.path.join(path, 'fraudTest.csv'))"
   ]
  },
  {
   "cell_type": "code",
   "execution_count": 7,
   "metadata": {},
   "outputs": [
    {
     "name": "stdout",
     "output_type": "stream",
     "text": [
      "<class 'pandas.core.frame.DataFrame'>\n",
      "RangeIndex: 1296675 entries, 0 to 1296674\n",
      "Data columns (total 23 columns):\n",
      " #   Column                 Non-Null Count    Dtype  \n",
      "---  ------                 --------------    -----  \n",
      " 0   Unnamed: 0             1296675 non-null  int64  \n",
      " 1   trans_date_trans_time  1296675 non-null  object \n",
      " 2   cc_num                 1296675 non-null  int64  \n",
      " 3   merchant               1296675 non-null  object \n",
      " 4   category               1296675 non-null  object \n",
      " 5   amt                    1296675 non-null  float64\n",
      " 6   first                  1296675 non-null  object \n",
      " 7   last                   1296675 non-null  object \n",
      " 8   gender                 1296675 non-null  object \n",
      " 9   street                 1296675 non-null  object \n",
      " 10  city                   1296675 non-null  object \n",
      " 11  state                  1296675 non-null  object \n",
      " 12  zip                    1296675 non-null  int64  \n",
      " 13  lat                    1296675 non-null  float64\n",
      " 14  long                   1296675 non-null  float64\n",
      " 15  city_pop               1296675 non-null  int64  \n",
      " 16  job                    1296675 non-null  object \n",
      " 17  dob                    1296675 non-null  object \n",
      " 18  trans_num              1296675 non-null  object \n",
      " 19  unix_time              1296675 non-null  int64  \n",
      " 20  merch_lat              1296675 non-null  float64\n",
      " 21  merch_long             1296675 non-null  float64\n",
      " 22  is_fraud               1296675 non-null  int64  \n",
      "dtypes: float64(5), int64(6), object(12)\n",
      "memory usage: 227.5+ MB\n"
     ]
    }
   ],
   "source": [
    "train_df.info()"
   ]
  },
  {
   "cell_type": "code",
   "execution_count": 8,
   "metadata": {},
   "outputs": [],
   "source": [
    "train_df.drop([\"trans_date_trans_time\", \"Unnamed: 0\", \"cc_num\", \"dob\", \"lat\", \"trans_num\"], axis = 1, inplace = True)\n",
    "test_df.drop([\"trans_date_trans_time\", \"Unnamed: 0\", \"cc_num\", \"dob\", \"lat\", \"trans_num\"], axis = 1, inplace = True)"
   ]
  },
  {
   "cell_type": "code",
   "execution_count": 9,
   "metadata": {},
   "outputs": [],
   "source": [
    "train_x = train_df.drop(columns = [\"is_fraud\"], axis = 1)\n",
    "train_y = train_df[\"is_fraud\"]\n",
    "\n",
    "test_x = test_df.drop(columns = [\"is_fraud\"], axis = 1)\n",
    "test_y = test_df[\"is_fraud\"]"
   ]
  },
  {
   "cell_type": "code",
   "execution_count": 10,
   "metadata": {},
   "outputs": [
    {
     "name": "stdout",
     "output_type": "stream",
     "text": [
      "is_fraud\n",
      "0    1289169\n",
      "1       7506\n",
      "Name: count, dtype: int64\n"
     ]
    },
    {
     "data": {
      "text/plain": [
       "([<matplotlib.patches.Wedge at 0x1add0ee3490>,\n",
       "  <matplotlib.patches.Wedge at 0x1adcbd27390>],\n",
       " [Text(-1.0998181131964657, 0.02000294690705531, '1'),\n",
       "  Text(1.0998181149229591, -0.020002851979370503, '0')],\n",
       " [Text(-0.5999007890162539, 0.010910698312939258, '99.4%'),\n",
       "  Text(0.5999007899579777, -0.010910646534202092, '0.6%')])"
      ]
     },
     "execution_count": 10,
     "metadata": {},
     "output_type": "execute_result"
    },
    {
     "data": {
      "image/png": "[encoded data removed]",
      "text/plain": [
       "<Figure size 640x480 with 1 Axes>"
      ]
     },
     "metadata": {},
     "output_type": "display_data"
    }
   ],
   "source": [
    "print(train_y.value_counts())\n",
    "\n",
    "x = [1, 0]\n",
    "plt.pie(train_y.value_counts(), labels = x, autopct = '%1.1f%%', )"
   ]
  },
  {
   "cell_type": "code",
   "execution_count": 11,
   "metadata": {},
   "outputs": [
    {
     "name": "stdout",
     "output_type": "stream",
     "text": [
      "is_fraud\n",
      "0    553574\n",
      "1      2145\n",
      "Name: count, dtype: int64\n"
     ]
    },
    {
     "data": {
      "text/plain": [
       "([<matplotlib.patches.Wedge at 0x1adcbd35a10>,\n",
       "  <matplotlib.patches.Wedge at 0x1adbf066c50>],\n",
       " [Text(-1.0999191268840707, 0.013338452480854692, '1'),\n",
       "  Text(1.0999191263279473, -0.01333849833996486, '0')],\n",
       " [Text(-0.5999558873913112, 0.007275519535011649, '99.6%'),\n",
       "  Text(0.5999558870879712, -0.007275544549071741, '0.4%')])"
      ]
     },
     "execution_count": 11,
     "metadata": {},
     "output_type": "execute_result"
    },
    {
     "data": {
      "image/png": "[encoded data removed]",
      "text/plain": [
       "<Figure size 640x480 with 1 Axes>"
      ]
     },
     "metadata": {},
     "output_type": "display_data"
    }
   ],
   "source": [
    "print(test_y.value_counts())\n",
    "\n",
    "plt.pie(test_y.value_counts(), labels = x, autopct = '%1.1f%%', )"
   ]
  },
  {
   "cell_type": "code",
   "execution_count": 12,
   "metadata": {},
   "outputs": [],
   "source": [
    "train_x['merchant'] = train_x['merchant'].apply(lambda x : x.replace('fraud_',''))\n",
    "test_x['merchant'] = test_x['merchant'].apply(lambda x : x.replace('fraud_',''))\n",
    "\n",
    "\n",
    "train_x['cents'] = (train_x['amt'] - np.floor(train_x['amt'])).astype('float16')\n",
    "test_x['cents'] = (test_x['amt'] - np.floor(test_x['amt'])).astype('float16')"
   ]
  },
  {
   "cell_type": "code",
   "execution_count": 13,
   "metadata": {},
   "outputs": [
    {
     "name": "stdout",
     "output_type": "stream",
     "text": [
      "['merchant', 'category', 'first', 'last', 'gender', 'street', 'city', 'state', 'job']\n",
      "['amt', 'zip', 'long', 'city_pop', 'unix_time', 'merch_lat', 'merch_long', 'cents']\n"
     ]
    }
   ],
   "source": [
    "cat_cols = []\n",
    "num_cols = []\n",
    "\n",
    "for col in train_x.columns:\n",
    "    if train_x[col].dtype == \"object\":\n",
    "        cat_cols.append(col)\n",
    "    else:\n",
    "        num_cols.append(col)\n",
    "\n",
    "print(cat_cols)\n",
    "print(num_cols)"
   ]
  },
  {
   "cell_type": "code",
   "execution_count": 14,
   "metadata": {},
   "outputs": [],
   "source": [
    "# Frequency encoding\n",
    "for col in cat_cols:\n",
    "    # Compute the value counts in the training set\n",
    "    train_value_counts = train_x[col].value_counts()\n",
    "    test_value_counts = test_x[col].value_counts()  # Use the same value counts for the test set\n",
    "\n",
    "    # Map the frequencies back to the original column\n",
    "    train_x[col] = train_x[col].map(train_value_counts)\n",
    "    test_x[col] = test_x[col].map(test_value_counts)  # Use the same mapping for the test set"
   ]
  },
  {
   "cell_type": "code",
   "execution_count": 15,
   "metadata": {},
   "outputs": [],
   "source": [
    "sc = StandardScaler()\n",
    "\n",
    "for col in train_x.columns:\n",
    "    train_x[col] = sc.fit_transform(train_x[[col]])\n",
    "    test_x[col] = sc.fit_transform(test_x[[col]])"
   ]
  },
  {
   "cell_type": "code",
   "execution_count": 16,
   "metadata": {},
   "outputs": [],
   "source": [
    "le = LabelEncoder()\n",
    "train_x['gender'] = le.fit_transform(train_x['gender'])\n",
    "test_x['gender'] = le.fit_transform(test_x['gender'])"
   ]
  },
  {
   "cell_type": "code",
   "execution_count": 17,
   "metadata": {},
   "outputs": [],
   "source": [
    "# int64 to int16\n",
    "# float 64 to float16\n",
    "for col in train_x.columns:\n",
    "    if train_x[col].dtype == \"int64\":\n",
    "        train_x[col] = train_x[col].astype('int16')\n",
    "        test_x[col] = test_x[col].astype('int16')\n",
    "    elif train_x[col].dtype == \"float64\":\n",
    "        train_x[col] = train_x[col].astype('float16')\n",
    "        test_x[col] = test_x[col].astype('float16')"
   ]
  },
  {
   "cell_type": "markdown",
   "metadata": {},
   "source": [
    "### Resample"
   ]
  },
  {
   "cell_type": "code",
   "execution_count": 18,
   "metadata": {},
   "outputs": [],
   "source": [
    "from sklearn.utils import resample\n",
    "new_train_df = pd.concat([train_x, train_y], axis = 1)\n",
    "balanced_train = resample(new_train_df[new_train_df['is_fraud'] == 0], \n",
    "                          n_samples = len(new_train_df[new_train_df['is_fraud'] == 1]), \n",
    "                          random_state = 42)\n",
    "\n",
    "Train_x = pd.concat([new_train_df[new_train_df['is_fraud'] == 1], balanced_train])\n",
    "Train_y = Train_x['is_fraud']\n",
    "Train_x = Train_x.drop(columns = [\"is_fraud\"], axis = 1)"
   ]
  },
  {
   "cell_type": "code",
   "execution_count": 19,
   "metadata": {},
   "outputs": [],
   "source": [
    "new_test_df = pd.concat([test_x, test_y], axis = 1)\n",
    "balanced_test = resample(new_test_df[new_test_df['is_fraud'] == 0], \n",
    "                          n_samples = len(new_test_df[new_test_df['is_fraud'] == 1]), \n",
    "                          random_state = 42)\n",
    "\n",
    "test_x = pd.concat([new_test_df[new_test_df['is_fraud'] == 1], balanced_test])\n",
    "test_y = test_x['is_fraud']\n",
    "test_x = test_x.drop(columns = [\"is_fraud\"], axis = 1)"
   ]
  },
  {
   "cell_type": "markdown",
   "metadata": {},
   "source": [
    "### 模型比較"
   ]
  },
  {
   "cell_type": "code",
   "execution_count": 20,
   "metadata": {},
   "outputs": [],
   "source": [
    "from sklearn.linear_model import LogisticRegression\n",
    "from sklearn.svm import SVC\n",
    "from sklearn.ensemble import AdaBoostClassifier\n",
    "from sklearn.ensemble import GradientBoostingClassifier\n",
    "from sklearn.ensemble import RandomForestClassifier\n",
    "from sklearn.neighbors import KNeighborsClassifier as KNN\n",
    "from sklearn.tree import DecisionTreeClassifier as tree\n",
    "from xgboost import XGBClassifier as XGB\n",
    "from sklearn.model_selection import KFold, cross_val_score"
   ]
  },
  {
   "cell_type": "code",
   "execution_count": 21,
   "metadata": {},
   "outputs": [],
   "source": [
    "models = [\n",
    "    LogisticRegression(max_iter = 1000),\n",
    "    SVC(kernel='linear', gamma = 0.01, C = 1), \n",
    "    AdaBoostClassifier(),\n",
    "    GradientBoostingClassifier(),\n",
    "    RandomForestClassifier(), \n",
    "    KNN(n_neighbors = 48), \n",
    "    tree(criterion = 'gini', \n",
    "         max_depth = 3, \n",
    "         min_samples_leaf = 2,\n",
    "         min_samples_split = 2),\n",
    "    XGB()\n",
    "]\n",
    "\n",
    "titles = [\n",
    "    \"LR\", \"SVC\", 'Adaboost', 'GBoost', \"RF\", \"KNN\", \"Tree\", \"XGB\"\n",
    "]"
   ]
  },
  {
   "cell_type": "code",
   "execution_count": 22,
   "metadata": {},
   "outputs": [
    {
     "name": "stdout",
     "output_type": "stream",
     "text": [
      "LR: 0.844125 (0.005434)\n",
      "SVC: 0.857980 (0.005317)\n",
      "Adaboost: 0.915667 (0.004033)\n",
      "GBoost: 0.946909 (0.003590)\n",
      "RF: 0.953171 (0.004672)\n",
      "KNN: 0.845657 (0.005649)\n",
      "Tree: 0.907208 (0.003752)\n",
      "XGB: 0.970557 (0.004012)\n"
     ]
    }
   ],
   "source": [
    "kfold = KFold(n_splits = 5, random_state = 7, shuffle = True)\n",
    "model_comp = pd.DataFrame()\n",
    "model_simple = pd.DataFrame()\n",
    "\n",
    "for i, model in enumerate(models):\n",
    "    scores = cross_val_score(model, Train_x, Train_y, cv = kfold, scoring = 'accuracy')\n",
    "\n",
    "    model_comp[titles[i]] = scores\n",
    "    msg = \"%s: %f (%f)\" % (titles[i], scores.mean(), scores.std())\n",
    "    print(msg)"
   ]
  },
  {
   "cell_type": "code",
   "execution_count": 23,
   "metadata": {},
   "outputs": [
    {
     "data": {
      "image/png": "[encoded data removed]",
      "text/plain": [
       "<Figure size 1200x720 with 1 Axes>"
      ]
     },
     "metadata": {},
     "output_type": "display_data"
    }
   ],
   "source": [
    "fig, ax = plt.subplots(figsize=(10, 6), dpi=120)\n",
    "\n",
    "# Matplotlib boxplot\n",
    "ax.boxplot(model_comp.values, labels=model_comp.columns)\n",
    "ax.set_title('Model Comparison')\n",
    "\n",
    "plt.show()"
   ]
  }
 ],
 "metadata": {
  "kernelspec": {
   "display_name": "Python 3",
   "language": "python",
   "name": "python3"
  },
  "language_info": {
   "codemirror_mode": {
    "name": "ipython",
    "version": 3
   },
   "file_extension": ".py",
   "mimetype": "text/x-python",
   "name": "python",
   "nbconvert_exporter": "python",
   "pygments_lexer": "ipython3",
   "version": "3.11.9"
  }
 },
 "nbformat": 4,
 "nbformat_minor": 2
}
